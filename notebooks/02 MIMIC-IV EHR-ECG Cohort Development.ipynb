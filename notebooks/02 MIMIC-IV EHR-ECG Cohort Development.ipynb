{
 "cells": [
  {
   "cell_type": "markdown",
   "id": "dae27fab",
   "metadata": {},
   "source": [
    "#### Data Curation and Population Extraction for emergency attendances with ECG screenings for prediction of acute cardiac diagnoses in hospital"
   ]
  },
  {
   "cell_type": "code",
   "execution_count": 9,
   "id": "22e1ce0c",
   "metadata": {},
   "outputs": [],
   "source": [
    "import pandas as pd\n",
    "import polars as pl\n",
    "import seaborn as sns\n",
    "import matplotlib.pyplot as plt\n",
    "import matplotlib.ticker as mtick\n",
    "from matplotlib.patches import Patch\n",
    "from matplotlib.dates import DateFormatter\n",
    "from datetime import timedelta, datetime\n",
    "from tqdm import tqdm\n",
    "import numpy as np\n",
    "from scipy import stats, special\n",
    "from tableone import TableOne\n",
    "\n",
    "import os\n",
    "import json\n",
    "import re\n",
    "import pprint\n",
    "import missingno as msno\n",
    "from statannotations.Annotator import Annotator\n",
    "import warnings\n",
    "\n",
    "pd.set_option('display.max_rows', None)"
   ]
  },
  {
   "cell_type": "code",
   "execution_count": 10,
   "id": "7496a018",
   "metadata": {},
   "outputs": [],
   "source": [
    "mimic_path = '../../data/MIMIC-IV/mimiciv/3.1/'\n",
    "mimic_ed_path = '../../data/MIMIC-IV/mimic-iv-ed/3.1/'\n",
    "mimic_ecg_path = '../../data/MIMIC-IV/mimic-iv-ecg/1.0/'\n",
    "out_path = '../outputs/ext_data/'\n",
    "\n",
    "path_to_local = '../../data/MIMIC-IV/config/'"
   ]
  },
  {
   "cell_type": "code",
   "execution_count": 11,
   "id": "a92622b3",
   "metadata": {},
   "outputs": [],
   "source": [
    "### Helper-functions for extracting EHR data\n",
    "def dataframe_from_csv(path, compression='gzip', header=0, index_col=0, chunksize=None):\n",
    "    return pd.read_csv(path, compression=compression, header=header, index_col=index_col, chunksize=None)"
   ]
  },
  {
   "cell_type": "markdown",
   "id": "a3c60a36",
   "metadata": {},
   "source": [
    "#### Test ED metadata"
   ]
  },
  {
   "cell_type": "code",
   "execution_count": null,
   "id": "509252dd",
   "metadata": {},
   "outputs": [],
   "source": [
    "ed_md = dataframe_from_csv()"
   ]
  },
  {
   "cell_type": "markdown",
   "id": "8bf7b487",
   "metadata": {},
   "source": [
    "#### Curate hospital stays across ED, ICU and Hospital modules"
   ]
  },
  {
   "cell_type": "code",
   "execution_count": 4,
   "id": "2c3b1313",
   "metadata": {},
   "outputs": [],
   "source": [
    "admissions = dataframe_from_csv(os.path.join(mimic_path, 'hosp/admissions.csv.gz')).reset_index()\n",
    "admissions_ed = admissions[admissions['edregtime'].notna()]\n",
    "icu_stays = dataframe_from_csv(os.path.join(mimic_ed_path, 'icu/icustays.csv.gz')).reset_index()\n",
    "ed_attendances = dataframe_from_csv(os.path.join(mimic_ed_path, 'ed/edstays.csv.gz')).reset_index()"
   ]
  },
  {
   "cell_type": "code",
   "execution_count": 5,
   "id": "d317a92f",
   "metadata": {},
   "outputs": [
    {
     "data": {
      "text/html": [
       "<div>\n",
       "<style scoped>\n",
       "    .dataframe tbody tr th:only-of-type {\n",
       "        vertical-align: middle;\n",
       "    }\n",
       "\n",
       "    .dataframe tbody tr th {\n",
       "        vertical-align: top;\n",
       "    }\n",
       "\n",
       "    .dataframe thead th {\n",
       "        text-align: right;\n",
       "    }\n",
       "</style>\n",
       "<table border=\"1\" class=\"dataframe\">\n",
       "  <thead>\n",
       "    <tr style=\"text-align: right;\">\n",
       "      <th></th>\n",
       "      <th>subject_id</th>\n",
       "      <th>hadm_id</th>\n",
       "      <th>stay_id</th>\n",
       "      <th>intime</th>\n",
       "      <th>outtime</th>\n",
       "      <th>gender</th>\n",
       "      <th>race</th>\n",
       "      <th>arrival_transport</th>\n",
       "      <th>disposition</th>\n",
       "    </tr>\n",
       "  </thead>\n",
       "  <tbody>\n",
       "    <tr>\n",
       "      <th>0</th>\n",
       "      <td>10000032</td>\n",
       "      <td>22595853.0</td>\n",
       "      <td>33258284</td>\n",
       "      <td>2180-05-06 19:17:00</td>\n",
       "      <td>2180-05-06 23:30:00</td>\n",
       "      <td>F</td>\n",
       "      <td>WHITE</td>\n",
       "      <td>AMBULANCE</td>\n",
       "      <td>ADMITTED</td>\n",
       "    </tr>\n",
       "    <tr>\n",
       "      <th>1</th>\n",
       "      <td>10000032</td>\n",
       "      <td>22841357.0</td>\n",
       "      <td>38112554</td>\n",
       "      <td>2180-06-26 15:54:00</td>\n",
       "      <td>2180-06-26 21:31:00</td>\n",
       "      <td>F</td>\n",
       "      <td>WHITE</td>\n",
       "      <td>AMBULANCE</td>\n",
       "      <td>ADMITTED</td>\n",
       "    </tr>\n",
       "    <tr>\n",
       "      <th>2</th>\n",
       "      <td>10000032</td>\n",
       "      <td>25742920.0</td>\n",
       "      <td>35968195</td>\n",
       "      <td>2180-08-05 20:58:00</td>\n",
       "      <td>2180-08-06 01:44:00</td>\n",
       "      <td>F</td>\n",
       "      <td>WHITE</td>\n",
       "      <td>AMBULANCE</td>\n",
       "      <td>ADMITTED</td>\n",
       "    </tr>\n",
       "    <tr>\n",
       "      <th>3</th>\n",
       "      <td>10000032</td>\n",
       "      <td>29079034.0</td>\n",
       "      <td>32952584</td>\n",
       "      <td>2180-07-22 16:24:00</td>\n",
       "      <td>2180-07-23 05:54:00</td>\n",
       "      <td>F</td>\n",
       "      <td>WHITE</td>\n",
       "      <td>AMBULANCE</td>\n",
       "      <td>HOME</td>\n",
       "    </tr>\n",
       "    <tr>\n",
       "      <th>4</th>\n",
       "      <td>10000032</td>\n",
       "      <td>29079034.0</td>\n",
       "      <td>39399961</td>\n",
       "      <td>2180-07-23 05:54:00</td>\n",
       "      <td>2180-07-23 14:00:00</td>\n",
       "      <td>F</td>\n",
       "      <td>WHITE</td>\n",
       "      <td>AMBULANCE</td>\n",
       "      <td>ADMITTED</td>\n",
       "    </tr>\n",
       "  </tbody>\n",
       "</table>\n",
       "</div>"
      ],
      "text/plain": [
       "   subject_id     hadm_id   stay_id               intime              outtime  \\\n",
       "0    10000032  22595853.0  33258284  2180-05-06 19:17:00  2180-05-06 23:30:00   \n",
       "1    10000032  22841357.0  38112554  2180-06-26 15:54:00  2180-06-26 21:31:00   \n",
       "2    10000032  25742920.0  35968195  2180-08-05 20:58:00  2180-08-06 01:44:00   \n",
       "3    10000032  29079034.0  32952584  2180-07-22 16:24:00  2180-07-23 05:54:00   \n",
       "4    10000032  29079034.0  39399961  2180-07-23 05:54:00  2180-07-23 14:00:00   \n",
       "\n",
       "  gender   race arrival_transport disposition  \n",
       "0      F  WHITE         AMBULANCE    ADMITTED  \n",
       "1      F  WHITE         AMBULANCE    ADMITTED  \n",
       "2      F  WHITE         AMBULANCE    ADMITTED  \n",
       "3      F  WHITE         AMBULANCE        HOME  \n",
       "4      F  WHITE         AMBULANCE    ADMITTED  "
      ]
     },
     "execution_count": 5,
     "metadata": {},
     "output_type": "execute_result"
    }
   ],
   "source": [
    "ed_attendances.head()"
   ]
  },
  {
   "cell_type": "code",
   "execution_count": 6,
   "id": "e2e8dcaf",
   "metadata": {},
   "outputs": [
    {
     "name": "stdout",
     "output_type": "stream",
     "text": [
      "Admissions: (379240, 16), ICU Stays: (94458, 8), ED Attendances: (425087, 9)\n",
      "Unique patients in Admissions: 182439, ICU Stays: 65366, ED Attendances: 205504\n"
     ]
    }
   ],
   "source": [
    "print(f'Admissions: {admissions_ed.shape}, ICU Stays: {icu_stays.shape}, ED Attendances: {ed_attendances.shape}')\n",
    "print(f'Unique patients in Admissions: {admissions_ed[\"subject_id\"].nunique()}, ICU Stays: {icu_stays[\"subject_id\"].nunique()}, ED Attendances: {ed_attendances[\"subject_id\"].nunique()}')"
   ]
  },
  {
   "cell_type": "code",
   "execution_count": 7,
   "id": "e3ca7a24",
   "metadata": {},
   "outputs": [
    {
     "name": "stdout",
     "output_type": "stream",
     "text": [
      "All hadm_id in icu_stays are present in admissions: True\n"
     ]
    }
   ],
   "source": [
    "# Check if all hadm_id in icu_stays are present in admissions\n",
    "all_ids_present = icu_stays['hadm_id'].isin(admissions['hadm_id']).all()\n",
    "print(\"All hadm_id in icu_stays are present in admissions:\", all_ids_present)"
   ]
  },
  {
   "cell_type": "code",
   "execution_count": 8,
   "id": "2bb29112",
   "metadata": {},
   "outputs": [
    {
     "data": {
      "text/plain": [
       "disposition\n",
       "HOME                           241632\n",
       "ADMITTED                       158010\n",
       "TRANSFER                         7025\n",
       "LEFT WITHOUT BEING SEEN          6155\n",
       "ELOPED                           5710\n",
       "OTHER                            4297\n",
       "LEFT AGAINST MEDICAL ADVICE      1881\n",
       "EXPIRED                           377\n",
       "Name: count, dtype: int64"
      ]
     },
     "execution_count": 8,
     "metadata": {},
     "output_type": "execute_result"
    }
   ],
   "source": [
    "ed_attendances['disposition'].value_counts()"
   ]
  },
  {
   "cell_type": "code",
   "execution_count": 9,
   "id": "f07d0e06",
   "metadata": {},
   "outputs": [
    {
     "data": {
      "text/plain": [
       "arrival_transport\n",
       "WALK IN       251849\n",
       "AMBULANCE     155752\n",
       "UNKNOWN        15352\n",
       "OTHER           1266\n",
       "HELICOPTER       868\n",
       "Name: count, dtype: int64"
      ]
     },
     "execution_count": 9,
     "metadata": {},
     "output_type": "execute_result"
    }
   ],
   "source": [
    "ed_attendances.arrival_transport.value_counts()"
   ]
  },
  {
   "cell_type": "code",
   "execution_count": 10,
   "id": "6d080b36",
   "metadata": {},
   "outputs": [
    {
     "name": "stdout",
     "output_type": "stream",
     "text": [
      "Total 'ADMITTED' stays: 158010\n",
      "'ADMITTED' stays with hadm_id: 157626\n",
      "hadm_ids from admitted stays that are in admissions: 157601\n",
      "Filtered Admissions: (157601, 16), Filtered ADMITTED ED Stays: (157607, 9)\n"
     ]
    }
   ],
   "source": [
    "# Filter ED stays for 'ADMITTED' disposition\n",
    "admitted_ed_stays = ed_attendances[ed_attendances['disposition'] == 'ADMITTED']\n",
    "\n",
    "# Count how many 'ADMITTED' stays have an associated hadm_id\n",
    "total_admitted_stays = admitted_ed_stays.shape[0]\n",
    "admitted_with_hadm_id = admitted_ed_stays['hadm_id'].notna().sum()\n",
    "\n",
    "# Check how many of those hadm_ids in ed_attendances are also in admissions\n",
    "hadm_ids_in_ed_stays = admitted_ed_stays['hadm_id'].dropna().unique()\n",
    "hadm_ids_in_admissions = admissions_ed['hadm_id'].unique()\n",
    "\n",
    "# Count the number of hadm_ids from admitted stays that are also in admissions\n",
    "hadm_ids_in_both = sum(hadm_id in hadm_ids_in_admissions for hadm_id in hadm_ids_in_ed_stays)\n",
    "hadm_ed_set_both = set(hadm_ids_in_ed_stays).intersection(set(hadm_ids_in_admissions))\n",
    "\n",
    "# Output the results\n",
    "print(f\"Total 'ADMITTED' stays: {total_admitted_stays}\")\n",
    "print(f\"'ADMITTED' stays with hadm_id: {admitted_with_hadm_id}\")\n",
    "print(f\"hadm_ids from admitted stays that are in admissions: {hadm_ids_in_both}\")\n",
    "\n",
    "admissions_ed = admissions_ed[admissions_ed['hadm_id'].isin(hadm_ed_set_both)]\n",
    "admitted_ed_stays = admitted_ed_stays[admitted_ed_stays['hadm_id'].isin(hadm_ed_set_both)]\n",
    "print(f'Filtered Admissions: {admissions_ed.shape}, Filtered ADMITTED ED Stays: {admitted_ed_stays.shape}')"
   ]
  },
  {
   "cell_type": "markdown",
   "id": "ecdc5230",
   "metadata": {},
   "source": [
    "#### Link relevant lab tests"
   ]
  },
  {
   "cell_type": "code",
   "execution_count": 5,
   "id": "1e180e6b",
   "metadata": {},
   "outputs": [],
   "source": [
    "def read_d_labitems_table(mimic4_path):\n",
    "    labitems = dataframe_from_csv(os.path.join(mimic4_path, 'hosp/d_labitems.csv.gz'))\n",
    "    labitems.reset_index(inplace=True)\n",
    "    return labitems[['itemid', 'label', 'category']]"
   ]
  },
  {
   "cell_type": "code",
   "execution_count": 12,
   "id": "29dc49fa",
   "metadata": {},
   "outputs": [],
   "source": [
    "lab_ids = read_d_labitems_table(mimic_path)"
   ]
  },
  {
   "cell_type": "code",
   "execution_count": 13,
   "id": "5da11117",
   "metadata": {},
   "outputs": [
    {
     "data": {
      "text/plain": [
       "(1650, 3)"
      ]
     },
     "execution_count": 13,
     "metadata": {},
     "output_type": "execute_result"
    }
   ],
   "source": [
    "lab_ids.shape"
   ]
  },
  {
   "cell_type": "code",
   "execution_count": 14,
   "id": "7c69dd83",
   "metadata": {},
   "outputs": [
    {
     "data": {
      "text/plain": [
       "category\n",
       "Chemistry     800\n",
       "Hematology    785\n",
       "Blood Gas      65\n",
       "Name: count, dtype: int64"
      ]
     },
     "execution_count": 14,
     "metadata": {},
     "output_type": "execute_result"
    }
   ],
   "source": [
    "lab_ids.category.value_counts()"
   ]
  },
  {
   "cell_type": "code",
   "execution_count": 40,
   "id": "305f291f",
   "metadata": {},
   "outputs": [
    {
     "data": {
      "text/html": [
       "<div>\n",
       "<style scoped>\n",
       "    .dataframe tbody tr th:only-of-type {\n",
       "        vertical-align: middle;\n",
       "    }\n",
       "\n",
       "    .dataframe tbody tr th {\n",
       "        vertical-align: top;\n",
       "    }\n",
       "\n",
       "    .dataframe thead th {\n",
       "        text-align: right;\n",
       "    }\n",
       "</style>\n",
       "<table border=\"1\" class=\"dataframe\">\n",
       "  <thead>\n",
       "    <tr style=\"text-align: right;\">\n",
       "      <th></th>\n",
       "      <th>itemid</th>\n",
       "      <th>label</th>\n",
       "      <th>category</th>\n",
       "    </tr>\n",
       "  </thead>\n",
       "  <tbody>\n",
       "    <tr>\n",
       "      <th>87</th>\n",
       "      <td>50889</td>\n",
       "      <td>C-Reactive Protein</td>\n",
       "      <td>Chemistry</td>\n",
       "    </tr>\n",
       "    <tr>\n",
       "      <th>1172</th>\n",
       "      <td>52082</td>\n",
       "      <td>Aspirin Reactivity</td>\n",
       "      <td>Hematology</td>\n",
       "    </tr>\n",
       "    <tr>\n",
       "      <th>1243</th>\n",
       "      <td>52154</td>\n",
       "      <td>P2Y12 Reaction Units</td>\n",
       "      <td>Hematology</td>\n",
       "    </tr>\n",
       "  </tbody>\n",
       "</table>\n",
       "</div>"
      ],
      "text/plain": [
       "      itemid                 label    category\n",
       "87     50889    C-Reactive Protein   Chemistry\n",
       "1172   52082    Aspirin Reactivity  Hematology\n",
       "1243   52154  P2Y12 Reaction Units  Hematology"
      ]
     },
     "execution_count": 40,
     "metadata": {},
     "output_type": "execute_result"
    }
   ],
   "source": [
    "lab_ids[lab_ids['label'].str.contains('react', case=False, na=False)]"
   ]
  },
  {
   "cell_type": "code",
   "execution_count": 37,
   "id": "ecb83b32",
   "metadata": {},
   "outputs": [],
   "source": [
    "troponin_ids = lab_ids[lab_ids['label'].str.contains('troponin', case=False, na=False)]\n",
    "ck_ids = lab_ids[lab_ids['label'].str.contains('Creatine Kinase', case=False, na=False)]\n",
    "haem_ids = lab_ids[lab_ids['label'].str.contains('hemoglobin', case=False, na=False)]\n",
    "egfr_ids = lab_ids[lab_ids['label'].str.contains('gfr', case=False, na=False)]"
   ]
  },
  {
   "cell_type": "code",
   "execution_count": 38,
   "id": "4f08c1fd",
   "metadata": {},
   "outputs": [
    {
     "data": {
      "text/html": [
       "<div>\n",
       "<style scoped>\n",
       "    .dataframe tbody tr th:only-of-type {\n",
       "        vertical-align: middle;\n",
       "    }\n",
       "\n",
       "    .dataframe tbody tr th {\n",
       "        vertical-align: top;\n",
       "    }\n",
       "\n",
       "    .dataframe thead th {\n",
       "        text-align: right;\n",
       "    }\n",
       "</style>\n",
       "<table border=\"1\" class=\"dataframe\">\n",
       "  <thead>\n",
       "    <tr style=\"text-align: right;\">\n",
       "      <th></th>\n",
       "      <th>itemid</th>\n",
       "      <th>label</th>\n",
       "      <th>category</th>\n",
       "    </tr>\n",
       "  </thead>\n",
       "  <tbody>\n",
       "    <tr>\n",
       "      <th>118</th>\n",
       "      <td>50920</td>\n",
       "      <td>Estimated GFR (MDRD equation)</td>\n",
       "      <td>Chemistry</td>\n",
       "    </tr>\n",
       "    <tr>\n",
       "      <th>886</th>\n",
       "      <td>51770</td>\n",
       "      <td>MDRDgfr</td>\n",
       "      <td>Chemistry</td>\n",
       "    </tr>\n",
       "    <tr>\n",
       "      <th>1116</th>\n",
       "      <td>52026</td>\n",
       "      <td>Estimated GFR (MDRD equation)</td>\n",
       "      <td>Blood Gas</td>\n",
       "    </tr>\n",
       "    <tr>\n",
       "      <th>1620</th>\n",
       "      <td>53161</td>\n",
       "      <td>Estimated GFR (CKD- EPI Refit)</td>\n",
       "      <td>Chemistry</td>\n",
       "    </tr>\n",
       "    <tr>\n",
       "      <th>1639</th>\n",
       "      <td>53180</td>\n",
       "      <td>Estimated GFR (CKD- EPI 2021)</td>\n",
       "      <td>Blood Gas</td>\n",
       "    </tr>\n",
       "  </tbody>\n",
       "</table>\n",
       "</div>"
      ],
      "text/plain": [
       "      itemid                           label   category\n",
       "118    50920   Estimated GFR (MDRD equation)  Chemistry\n",
       "886    51770                         MDRDgfr  Chemistry\n",
       "1116   52026   Estimated GFR (MDRD equation)  Blood Gas\n",
       "1620   53161  Estimated GFR (CKD- EPI Refit)  Chemistry\n",
       "1639   53180   Estimated GFR (CKD- EPI 2021)  Blood Gas"
      ]
     },
     "execution_count": 38,
     "metadata": {},
     "output_type": "execute_result"
    }
   ],
   "source": [
    "egfr_ids"
   ]
  },
  {
   "cell_type": "code",
   "execution_count": 34,
   "id": "0236d9d7",
   "metadata": {},
   "outputs": [
    {
     "data": {
      "text/html": [
       "<div>\n",
       "<style scoped>\n",
       "    .dataframe tbody tr th:only-of-type {\n",
       "        vertical-align: middle;\n",
       "    }\n",
       "\n",
       "    .dataframe tbody tr th {\n",
       "        vertical-align: top;\n",
       "    }\n",
       "\n",
       "    .dataframe thead th {\n",
       "        text-align: right;\n",
       "    }\n",
       "</style>\n",
       "<table border=\"1\" class=\"dataframe\">\n",
       "  <thead>\n",
       "    <tr style=\"text-align: right;\">\n",
       "      <th></th>\n",
       "      <th>itemid</th>\n",
       "      <th>label</th>\n",
       "      <th>category</th>\n",
       "    </tr>\n",
       "  </thead>\n",
       "  <tbody>\n",
       "    <tr>\n",
       "      <th>4</th>\n",
       "      <td>50805</td>\n",
       "      <td>Carboxyhemoglobin</td>\n",
       "      <td>Blood Gas</td>\n",
       "    </tr>\n",
       "    <tr>\n",
       "      <th>9</th>\n",
       "      <td>50811</td>\n",
       "      <td>Hemoglobin</td>\n",
       "      <td>Blood Gas</td>\n",
       "    </tr>\n",
       "    <tr>\n",
       "      <th>12</th>\n",
       "      <td>50814</td>\n",
       "      <td>Methemoglobin</td>\n",
       "      <td>Blood Gas</td>\n",
       "    </tr>\n",
       "    <tr>\n",
       "      <th>50</th>\n",
       "      <td>50852</td>\n",
       "      <td>% Hemoglobin A1c</td>\n",
       "      <td>Chemistry</td>\n",
       "    </tr>\n",
       "    <tr>\n",
       "      <th>53</th>\n",
       "      <td>50855</td>\n",
       "      <td>Absolute Hemoglobin</td>\n",
       "      <td>Chemistry</td>\n",
       "    </tr>\n",
       "    <tr>\n",
       "      <th>397</th>\n",
       "      <td>51212</td>\n",
       "      <td>Fetal Hemoglobin</td>\n",
       "      <td>Hematology</td>\n",
       "    </tr>\n",
       "    <tr>\n",
       "      <th>407</th>\n",
       "      <td>51222</td>\n",
       "      <td>Hemoglobin</td>\n",
       "      <td>Hematology</td>\n",
       "    </tr>\n",
       "    <tr>\n",
       "      <th>408</th>\n",
       "      <td>51223</td>\n",
       "      <td>Hemoglobin A2</td>\n",
       "      <td>Hematology</td>\n",
       "    </tr>\n",
       "    <tr>\n",
       "      <th>409</th>\n",
       "      <td>51224</td>\n",
       "      <td>Hemoglobin C</td>\n",
       "      <td>Hematology</td>\n",
       "    </tr>\n",
       "    <tr>\n",
       "      <th>410</th>\n",
       "      <td>51225</td>\n",
       "      <td>Hemoglobin F</td>\n",
       "      <td>Hematology</td>\n",
       "    </tr>\n",
       "    <tr>\n",
       "      <th>470</th>\n",
       "      <td>51285</td>\n",
       "      <td>Reticulocyte, Cellular Hemoglobin</td>\n",
       "      <td>Hematology</td>\n",
       "    </tr>\n",
       "    <tr>\n",
       "      <th>753</th>\n",
       "      <td>51631</td>\n",
       "      <td>Glycated Hemoglobin</td>\n",
       "      <td>Chemistry</td>\n",
       "    </tr>\n",
       "    <tr>\n",
       "      <th>762</th>\n",
       "      <td>51640</td>\n",
       "      <td>Hemoglobin</td>\n",
       "      <td>Chemistry</td>\n",
       "    </tr>\n",
       "    <tr>\n",
       "      <th>763</th>\n",
       "      <td>51641</td>\n",
       "      <td>Hemoglobin  A</td>\n",
       "      <td>Chemistry</td>\n",
       "    </tr>\n",
       "    <tr>\n",
       "      <th>764</th>\n",
       "      <td>51642</td>\n",
       "      <td>Hemoglobin  A1</td>\n",
       "      <td>Chemistry</td>\n",
       "    </tr>\n",
       "    <tr>\n",
       "      <th>765</th>\n",
       "      <td>51643</td>\n",
       "      <td>Hemoglobin  A2</td>\n",
       "      <td>Chemistry</td>\n",
       "    </tr>\n",
       "    <tr>\n",
       "      <th>766</th>\n",
       "      <td>51644</td>\n",
       "      <td>Hemoglobin  C</td>\n",
       "      <td>Chemistry</td>\n",
       "    </tr>\n",
       "    <tr>\n",
       "      <th>767</th>\n",
       "      <td>51645</td>\n",
       "      <td>Hemoglobin, Calculated</td>\n",
       "      <td>Chemistry</td>\n",
       "    </tr>\n",
       "    <tr>\n",
       "      <th>768</th>\n",
       "      <td>51646</td>\n",
       "      <td>Hemoglobin  F</td>\n",
       "      <td>Chemistry</td>\n",
       "    </tr>\n",
       "    <tr>\n",
       "      <th>769</th>\n",
       "      <td>51647</td>\n",
       "      <td>Hemoglobin  S</td>\n",
       "      <td>Chemistry</td>\n",
       "    </tr>\n",
       "    <tr>\n",
       "      <th>1122</th>\n",
       "      <td>52032</td>\n",
       "      <td>P50 of Hemoglobin</td>\n",
       "      <td>Blood Gas</td>\n",
       "    </tr>\n",
       "    <tr>\n",
       "      <th>1217</th>\n",
       "      <td>52128</td>\n",
       "      <td>Hemoglobin H Inclusion</td>\n",
       "      <td>Hematology</td>\n",
       "    </tr>\n",
       "    <tr>\n",
       "      <th>1218</th>\n",
       "      <td>52129</td>\n",
       "      <td>Hemoglobin Other</td>\n",
       "      <td>Hematology</td>\n",
       "    </tr>\n",
       "    <tr>\n",
       "      <th>1233</th>\n",
       "      <td>52144</td>\n",
       "      <td>Methemoglobin</td>\n",
       "      <td>Hematology</td>\n",
       "    </tr>\n",
       "    <tr>\n",
       "      <th>1246</th>\n",
       "      <td>52157</td>\n",
       "      <td>Plasma Hemoglobin</td>\n",
       "      <td>Hematology</td>\n",
       "    </tr>\n",
       "  </tbody>\n",
       "</table>\n",
       "</div>"
      ],
      "text/plain": [
       "      itemid                              label    category\n",
       "4      50805                  Carboxyhemoglobin   Blood Gas\n",
       "9      50811                         Hemoglobin   Blood Gas\n",
       "12     50814                      Methemoglobin   Blood Gas\n",
       "50     50852                   % Hemoglobin A1c   Chemistry\n",
       "53     50855                Absolute Hemoglobin   Chemistry\n",
       "397    51212                   Fetal Hemoglobin  Hematology\n",
       "407    51222                         Hemoglobin  Hematology\n",
       "408    51223                      Hemoglobin A2  Hematology\n",
       "409    51224                       Hemoglobin C  Hematology\n",
       "410    51225                       Hemoglobin F  Hematology\n",
       "470    51285  Reticulocyte, Cellular Hemoglobin  Hematology\n",
       "753    51631                Glycated Hemoglobin   Chemistry\n",
       "762    51640                         Hemoglobin   Chemistry\n",
       "763    51641                      Hemoglobin  A   Chemistry\n",
       "764    51642                     Hemoglobin  A1   Chemistry\n",
       "765    51643                     Hemoglobin  A2   Chemistry\n",
       "766    51644                      Hemoglobin  C   Chemistry\n",
       "767    51645             Hemoglobin, Calculated   Chemistry\n",
       "768    51646                      Hemoglobin  F   Chemistry\n",
       "769    51647                      Hemoglobin  S   Chemistry\n",
       "1122   52032                  P50 of Hemoglobin   Blood Gas\n",
       "1217   52128             Hemoglobin H Inclusion  Hematology\n",
       "1218   52129                   Hemoglobin Other  Hematology\n",
       "1233   52144                      Methemoglobin  Hematology\n",
       "1246   52157                  Plasma Hemoglobin  Hematology"
      ]
     },
     "execution_count": 34,
     "metadata": {},
     "output_type": "execute_result"
    }
   ],
   "source": [
    "haem_ids"
   ]
  },
  {
   "cell_type": "code",
   "execution_count": 25,
   "id": "8d92fcc3",
   "metadata": {},
   "outputs": [
    {
     "data": {
      "text/html": [
       "<div>\n",
       "<style scoped>\n",
       "    .dataframe tbody tr th:only-of-type {\n",
       "        vertical-align: middle;\n",
       "    }\n",
       "\n",
       "    .dataframe tbody tr th {\n",
       "        vertical-align: top;\n",
       "    }\n",
       "\n",
       "    .dataframe thead th {\n",
       "        text-align: right;\n",
       "    }\n",
       "</style>\n",
       "<table border=\"1\" class=\"dataframe\">\n",
       "  <thead>\n",
       "    <tr style=\"text-align: right;\">\n",
       "      <th></th>\n",
       "      <th>itemid</th>\n",
       "      <th>label</th>\n",
       "      <th>category</th>\n",
       "    </tr>\n",
       "  </thead>\n",
       "  <tbody>\n",
       "    <tr>\n",
       "      <th>108</th>\n",
       "      <td>50910</td>\n",
       "      <td>Creatine Kinase (CK)</td>\n",
       "      <td>Chemistry</td>\n",
       "    </tr>\n",
       "    <tr>\n",
       "      <th>109</th>\n",
       "      <td>50911</td>\n",
       "      <td>Creatine Kinase, MB Isoenzyme</td>\n",
       "      <td>Chemistry</td>\n",
       "    </tr>\n",
       "    <tr>\n",
       "      <th>717</th>\n",
       "      <td>51594</td>\n",
       "      <td>Creatine Kinase, Isoenzyme BB</td>\n",
       "      <td>Chemistry</td>\n",
       "    </tr>\n",
       "    <tr>\n",
       "      <th>718</th>\n",
       "      <td>51595</td>\n",
       "      <td>Creatine Kinase, Isoenzyme MB</td>\n",
       "      <td>Chemistry</td>\n",
       "    </tr>\n",
       "    <tr>\n",
       "      <th>719</th>\n",
       "      <td>51596</td>\n",
       "      <td>Creatine Kinase, Isoenzyme MM</td>\n",
       "      <td>Chemistry</td>\n",
       "    </tr>\n",
       "  </tbody>\n",
       "</table>\n",
       "</div>"
      ],
      "text/plain": [
       "     itemid                          label   category\n",
       "108   50910           Creatine Kinase (CK)  Chemistry\n",
       "109   50911  Creatine Kinase, MB Isoenzyme  Chemistry\n",
       "717   51594  Creatine Kinase, Isoenzyme BB  Chemistry\n",
       "718   51595  Creatine Kinase, Isoenzyme MB  Chemistry\n",
       "719   51596  Creatine Kinase, Isoenzyme MM  Chemistry"
      ]
     },
     "execution_count": 25,
     "metadata": {},
     "output_type": "execute_result"
    }
   ],
   "source": [
    "ck_ids"
   ]
  },
  {
   "cell_type": "code",
   "execution_count": 26,
   "id": "71d84af3",
   "metadata": {},
   "outputs": [
    {
     "data": {
      "text/html": [
       "<div>\n",
       "<style scoped>\n",
       "    .dataframe tbody tr th:only-of-type {\n",
       "        vertical-align: middle;\n",
       "    }\n",
       "\n",
       "    .dataframe tbody tr th {\n",
       "        vertical-align: top;\n",
       "    }\n",
       "\n",
       "    .dataframe thead th {\n",
       "        text-align: right;\n",
       "    }\n",
       "</style>\n",
       "<table border=\"1\" class=\"dataframe\">\n",
       "  <thead>\n",
       "    <tr style=\"text-align: right;\">\n",
       "      <th></th>\n",
       "      <th>itemid</th>\n",
       "      <th>label</th>\n",
       "      <th>category</th>\n",
       "    </tr>\n",
       "  </thead>\n",
       "  <tbody>\n",
       "    <tr>\n",
       "      <th>198</th>\n",
       "      <td>51002</td>\n",
       "      <td>Troponin I</td>\n",
       "      <td>Chemistry</td>\n",
       "    </tr>\n",
       "    <tr>\n",
       "      <th>199</th>\n",
       "      <td>51003</td>\n",
       "      <td>Troponin T</td>\n",
       "      <td>Chemistry</td>\n",
       "    </tr>\n",
       "    <tr>\n",
       "      <th>1528</th>\n",
       "      <td>52642</td>\n",
       "      <td>Troponin I</td>\n",
       "      <td>Chemistry</td>\n",
       "    </tr>\n",
       "  </tbody>\n",
       "</table>\n",
       "</div>"
      ],
      "text/plain": [
       "      itemid       label   category\n",
       "198    51002  Troponin I  Chemistry\n",
       "199    51003  Troponin T  Chemistry\n",
       "1528   52642  Troponin I  Chemistry"
      ]
     },
     "execution_count": 26,
     "metadata": {},
     "output_type": "execute_result"
    }
   ],
   "source": [
    "troponin_ids"
   ]
  },
  {
   "cell_type": "markdown",
   "id": "ee12047e",
   "metadata": {},
   "source": [
    "#### Read medications table"
   ]
  },
  {
   "cell_type": "code",
   "execution_count": 6,
   "id": "301a2cdf",
   "metadata": {},
   "outputs": [],
   "source": [
    "presc_data = dataframe_from_csv(os.path.join(mimic_path, 'hosp/emar.csv.gz')).reset_index()"
   ]
  },
  {
   "cell_type": "code",
   "execution_count": null,
   "id": "90748550",
   "metadata": {},
   "outputs": [],
   "source": [
    "def get_generic_drugs(mapping, df):\n",
    "    \"\"\"Takes NDC product table and prescriptions dataframe; adds column with NDC table's corresponding generic name\"\"\"\n",
    "\n",
    "    def brand_to_generic(ndc):\n",
    "        # We only want the first 2 sections of the NDC code: xxxx-xxxx-xx\n",
    "        matches = list(re.finditer(r\"-\", ndc))\n",
    "        if len(matches) > 1:\n",
    "            ndc = ndc[:matches[1].start()]\n",
    "        try:\n",
    "            return mapping.loc[mapping.PRODUCTNDC == ndc].NONPROPRIETARYNAME.iloc[0]\n",
    "        except:\n",
    "            print(\"Error: \", ndc)\n",
    "            return np.nan\n",
    "\n",
    "    df['generic_drug_name'] = df['ndc'].apply(brand_to_generic)"
   ]
  },
  {
   "cell_type": "code",
   "execution_count": 7,
   "id": "8da8f9b7",
   "metadata": {},
   "outputs": [
    {
     "data": {
      "text/plain": [
       "((42808593, 12),\n",
       " Index(['subject_id', 'hadm_id', 'emar_id', 'emar_seq', 'poe_id', 'pharmacy_id',\n",
       "        'enter_provider_id', 'charttime', 'medication', 'event_txt',\n",
       "        'scheduletime', 'storetime'],\n",
       "       dtype='object'))"
      ]
     },
     "execution_count": 7,
     "metadata": {},
     "output_type": "execute_result"
    }
   ],
   "source": [
    "presc_data.shape, presc_data.columns"
   ]
  },
  {
   "cell_type": "code",
   "execution_count": 8,
   "id": "f9243eb2",
   "metadata": {},
   "outputs": [
    {
     "ename": "KeyboardInterrupt",
     "evalue": "",
     "output_type": "error",
     "traceback": [
      "\u001b[1;31m---------------------------------------------------------------------------\u001b[0m",
      "\u001b[1;31mKeyboardInterrupt\u001b[0m                         Traceback (most recent call last)",
      "Cell \u001b[1;32mIn[8], line 1\u001b[0m\n\u001b[1;32m----> 1\u001b[0m presc_data[presc_data\u001b[38;5;241m.\u001b[39mmedication\u001b[38;5;241m.\u001b[39mstr\u001b[38;5;241m.\u001b[39mcontains(\u001b[38;5;124m'\u001b[39m\u001b[38;5;124maspirin\u001b[39m\u001b[38;5;124m'\u001b[39m, case\u001b[38;5;241m=\u001b[39m\u001b[38;5;28;01mFalse\u001b[39;00m, na\u001b[38;5;241m=\u001b[39m\u001b[38;5;28;01mFalse\u001b[39;00m)]\n",
      "File \u001b[1;32md:\\Pdir\\MMFair\\.venv\\lib\\site-packages\\IPython\\core\\displayhook.py:268\u001b[0m, in \u001b[0;36mDisplayHook.__call__\u001b[1;34m(self, result)\u001b[0m\n\u001b[0;32m    266\u001b[0m \u001b[38;5;28mself\u001b[39m\u001b[38;5;241m.\u001b[39mstart_displayhook()\n\u001b[0;32m    267\u001b[0m \u001b[38;5;28mself\u001b[39m\u001b[38;5;241m.\u001b[39mwrite_output_prompt()\n\u001b[1;32m--> 268\u001b[0m format_dict, md_dict \u001b[38;5;241m=\u001b[39m \u001b[38;5;28;43mself\u001b[39;49m\u001b[38;5;241;43m.\u001b[39;49m\u001b[43mcompute_format_data\u001b[49m\u001b[43m(\u001b[49m\u001b[43mresult\u001b[49m\u001b[43m)\u001b[49m\n\u001b[0;32m    269\u001b[0m \u001b[38;5;28mself\u001b[39m\u001b[38;5;241m.\u001b[39mupdate_user_ns(result)\n\u001b[0;32m    270\u001b[0m \u001b[38;5;28mself\u001b[39m\u001b[38;5;241m.\u001b[39mfill_exec_result(result)\n",
      "File \u001b[1;32md:\\Pdir\\MMFair\\.venv\\lib\\site-packages\\IPython\\core\\displayhook.py:157\u001b[0m, in \u001b[0;36mDisplayHook.compute_format_data\u001b[1;34m(self, result)\u001b[0m\n\u001b[0;32m    127\u001b[0m \u001b[38;5;28;01mdef\u001b[39;00m\u001b[38;5;250m \u001b[39m\u001b[38;5;21mcompute_format_data\u001b[39m(\u001b[38;5;28mself\u001b[39m, result):\n\u001b[0;32m    128\u001b[0m \u001b[38;5;250m    \u001b[39m\u001b[38;5;124;03m\"\"\"Compute format data of the object to be displayed.\u001b[39;00m\n\u001b[0;32m    129\u001b[0m \n\u001b[0;32m    130\u001b[0m \u001b[38;5;124;03m    The format data is a generalization of the :func:`repr` of an object.\u001b[39;00m\n\u001b[1;32m   (...)\u001b[0m\n\u001b[0;32m    155\u001b[0m \n\u001b[0;32m    156\u001b[0m \u001b[38;5;124;03m    \"\"\"\u001b[39;00m\n\u001b[1;32m--> 157\u001b[0m     \u001b[38;5;28;01mreturn\u001b[39;00m \u001b[38;5;28;43mself\u001b[39;49m\u001b[38;5;241;43m.\u001b[39;49m\u001b[43mshell\u001b[49m\u001b[38;5;241;43m.\u001b[39;49m\u001b[43mdisplay_formatter\u001b[49m\u001b[38;5;241;43m.\u001b[39;49m\u001b[43mformat\u001b[49m\u001b[43m(\u001b[49m\u001b[43mresult\u001b[49m\u001b[43m)\u001b[49m\n",
      "File \u001b[1;32md:\\Pdir\\MMFair\\.venv\\lib\\site-packages\\IPython\\core\\formatters.py:238\u001b[0m, in \u001b[0;36mDisplayFormatter.format\u001b[1;34m(self, obj, include, exclude)\u001b[0m\n\u001b[0;32m    236\u001b[0m md \u001b[38;5;241m=\u001b[39m \u001b[38;5;28;01mNone\u001b[39;00m\n\u001b[0;32m    237\u001b[0m \u001b[38;5;28;01mtry\u001b[39;00m:\n\u001b[1;32m--> 238\u001b[0m     data \u001b[38;5;241m=\u001b[39m \u001b[43mformatter\u001b[49m\u001b[43m(\u001b[49m\u001b[43mobj\u001b[49m\u001b[43m)\u001b[49m\n\u001b[0;32m    239\u001b[0m \u001b[38;5;28;01mexcept\u001b[39;00m:\n\u001b[0;32m    240\u001b[0m     \u001b[38;5;66;03m# FIXME: log the exception\u001b[39;00m\n\u001b[0;32m    241\u001b[0m     \u001b[38;5;28;01mraise\u001b[39;00m\n",
      "File \u001b[1;32md:\\Pdir\\MMFair\\.venv\\lib\\site-packages\\decorator.py:235\u001b[0m, in \u001b[0;36mdecorate.<locals>.fun\u001b[1;34m(*args, **kw)\u001b[0m\n\u001b[0;32m    233\u001b[0m \u001b[38;5;28;01mif\u001b[39;00m \u001b[38;5;129;01mnot\u001b[39;00m kwsyntax:\n\u001b[0;32m    234\u001b[0m     args, kw \u001b[38;5;241m=\u001b[39m fix(args, kw, sig)\n\u001b[1;32m--> 235\u001b[0m \u001b[38;5;28;01mreturn\u001b[39;00m caller(func, \u001b[38;5;241m*\u001b[39m(extras \u001b[38;5;241m+\u001b[39m args), \u001b[38;5;241m*\u001b[39m\u001b[38;5;241m*\u001b[39mkw)\n",
      "File \u001b[1;32md:\\Pdir\\MMFair\\.venv\\lib\\site-packages\\IPython\\core\\formatters.py:282\u001b[0m, in \u001b[0;36mcatch_format_error\u001b[1;34m(method, self, *args, **kwargs)\u001b[0m\n\u001b[0;32m    280\u001b[0m \u001b[38;5;250m\u001b[39m\u001b[38;5;124;03m\"\"\"show traceback on failed format call\"\"\"\u001b[39;00m\n\u001b[0;32m    281\u001b[0m \u001b[38;5;28;01mtry\u001b[39;00m:\n\u001b[1;32m--> 282\u001b[0m     r \u001b[38;5;241m=\u001b[39m method(\u001b[38;5;28mself\u001b[39m, \u001b[38;5;241m*\u001b[39margs, \u001b[38;5;241m*\u001b[39m\u001b[38;5;241m*\u001b[39mkwargs)\n\u001b[0;32m    283\u001b[0m \u001b[38;5;28;01mexcept\u001b[39;00m \u001b[38;5;167;01mNotImplementedError\u001b[39;00m:\n\u001b[0;32m    284\u001b[0m     \u001b[38;5;66;03m# don't warn on NotImplementedErrors\u001b[39;00m\n\u001b[0;32m    285\u001b[0m     \u001b[38;5;28;01mreturn\u001b[39;00m \u001b[38;5;28mself\u001b[39m\u001b[38;5;241m.\u001b[39m_check_return(\u001b[38;5;28;01mNone\u001b[39;00m, args[\u001b[38;5;241m0\u001b[39m])\n",
      "File \u001b[1;32md:\\Pdir\\MMFair\\.venv\\lib\\site-packages\\IPython\\core\\formatters.py:406\u001b[0m, in \u001b[0;36mBaseFormatter.__call__\u001b[1;34m(self, obj)\u001b[0m\n\u001b[0;32m    404\u001b[0m     method \u001b[38;5;241m=\u001b[39m get_real_method(obj, \u001b[38;5;28mself\u001b[39m\u001b[38;5;241m.\u001b[39mprint_method)\n\u001b[0;32m    405\u001b[0m     \u001b[38;5;28;01mif\u001b[39;00m method \u001b[38;5;129;01mis\u001b[39;00m \u001b[38;5;129;01mnot\u001b[39;00m \u001b[38;5;28;01mNone\u001b[39;00m:\n\u001b[1;32m--> 406\u001b[0m         \u001b[38;5;28;01mreturn\u001b[39;00m \u001b[43mmethod\u001b[49m\u001b[43m(\u001b[49m\u001b[43m)\u001b[49m\n\u001b[0;32m    407\u001b[0m     \u001b[38;5;28;01mreturn\u001b[39;00m \u001b[38;5;28;01mNone\u001b[39;00m\n\u001b[0;32m    408\u001b[0m \u001b[38;5;28;01melse\u001b[39;00m:\n",
      "File \u001b[1;32md:\\Pdir\\MMFair\\.venv\\lib\\site-packages\\pandas\\core\\frame.py:1260\u001b[0m, in \u001b[0;36mDataFrame._repr_html_\u001b[1;34m(self)\u001b[0m\n\u001b[0;32m   1238\u001b[0m     show_dimensions \u001b[38;5;241m=\u001b[39m get_option(\u001b[38;5;124m\"\u001b[39m\u001b[38;5;124mdisplay.show_dimensions\u001b[39m\u001b[38;5;124m\"\u001b[39m)\n\u001b[0;32m   1240\u001b[0m     formatter \u001b[38;5;241m=\u001b[39m fmt\u001b[38;5;241m.\u001b[39mDataFrameFormatter(\n\u001b[0;32m   1241\u001b[0m         \u001b[38;5;28mself\u001b[39m,\n\u001b[0;32m   1242\u001b[0m         columns\u001b[38;5;241m=\u001b[39m\u001b[38;5;28;01mNone\u001b[39;00m,\n\u001b[1;32m   (...)\u001b[0m\n\u001b[0;32m   1258\u001b[0m         decimal\u001b[38;5;241m=\u001b[39m\u001b[38;5;124m\"\u001b[39m\u001b[38;5;124m.\u001b[39m\u001b[38;5;124m\"\u001b[39m,\n\u001b[0;32m   1259\u001b[0m     )\n\u001b[1;32m-> 1260\u001b[0m     \u001b[38;5;28;01mreturn\u001b[39;00m \u001b[43mfmt\u001b[49m\u001b[38;5;241;43m.\u001b[39;49m\u001b[43mDataFrameRenderer\u001b[49m\u001b[43m(\u001b[49m\u001b[43mformatter\u001b[49m\u001b[43m)\u001b[49m\u001b[38;5;241;43m.\u001b[39;49m\u001b[43mto_html\u001b[49m\u001b[43m(\u001b[49m\u001b[43mnotebook\u001b[49m\u001b[38;5;241;43m=\u001b[39;49m\u001b[38;5;28;43;01mTrue\u001b[39;49;00m\u001b[43m)\u001b[49m\n\u001b[0;32m   1261\u001b[0m \u001b[38;5;28;01melse\u001b[39;00m:\n\u001b[0;32m   1262\u001b[0m     \u001b[38;5;28;01mreturn\u001b[39;00m \u001b[38;5;28;01mNone\u001b[39;00m\n",
      "File \u001b[1;32md:\\Pdir\\MMFair\\.venv\\lib\\site-packages\\pandas\\io\\formats\\format.py:936\u001b[0m, in \u001b[0;36mDataFrameRenderer.to_html\u001b[1;34m(self, buf, encoding, classes, notebook, border, table_id, render_links)\u001b[0m\n\u001b[0;32m    927\u001b[0m Klass \u001b[38;5;241m=\u001b[39m NotebookFormatter \u001b[38;5;28;01mif\u001b[39;00m notebook \u001b[38;5;28;01melse\u001b[39;00m HTMLFormatter\n\u001b[0;32m    929\u001b[0m html_formatter \u001b[38;5;241m=\u001b[39m Klass(\n\u001b[0;32m    930\u001b[0m     \u001b[38;5;28mself\u001b[39m\u001b[38;5;241m.\u001b[39mfmt,\n\u001b[0;32m    931\u001b[0m     classes\u001b[38;5;241m=\u001b[39mclasses,\n\u001b[1;32m   (...)\u001b[0m\n\u001b[0;32m    934\u001b[0m     render_links\u001b[38;5;241m=\u001b[39mrender_links,\n\u001b[0;32m    935\u001b[0m )\n\u001b[1;32m--> 936\u001b[0m string \u001b[38;5;241m=\u001b[39m \u001b[43mhtml_formatter\u001b[49m\u001b[38;5;241;43m.\u001b[39;49m\u001b[43mto_string\u001b[49m\u001b[43m(\u001b[49m\u001b[43m)\u001b[49m\n\u001b[0;32m    937\u001b[0m \u001b[38;5;28;01mreturn\u001b[39;00m save_to_buffer(string, buf\u001b[38;5;241m=\u001b[39mbuf, encoding\u001b[38;5;241m=\u001b[39mencoding)\n",
      "File \u001b[1;32md:\\Pdir\\MMFair\\.venv\\lib\\site-packages\\pandas\\io\\formats\\html.py:88\u001b[0m, in \u001b[0;36mHTMLFormatter.to_string\u001b[1;34m(self)\u001b[0m\n\u001b[0;32m     87\u001b[0m \u001b[38;5;28;01mdef\u001b[39;00m\u001b[38;5;250m \u001b[39m\u001b[38;5;21mto_string\u001b[39m(\u001b[38;5;28mself\u001b[39m) \u001b[38;5;241m-\u001b[39m\u001b[38;5;241m>\u001b[39m \u001b[38;5;28mstr\u001b[39m:\n\u001b[1;32m---> 88\u001b[0m     lines \u001b[38;5;241m=\u001b[39m \u001b[38;5;28;43mself\u001b[39;49m\u001b[38;5;241;43m.\u001b[39;49m\u001b[43mrender\u001b[49m\u001b[43m(\u001b[49m\u001b[43m)\u001b[49m\n\u001b[0;32m     89\u001b[0m     \u001b[38;5;28;01mif\u001b[39;00m \u001b[38;5;28many\u001b[39m(\u001b[38;5;28misinstance\u001b[39m(x, \u001b[38;5;28mstr\u001b[39m) \u001b[38;5;28;01mfor\u001b[39;00m x \u001b[38;5;129;01min\u001b[39;00m lines):\n\u001b[0;32m     90\u001b[0m         lines \u001b[38;5;241m=\u001b[39m [\u001b[38;5;28mstr\u001b[39m(x) \u001b[38;5;28;01mfor\u001b[39;00m x \u001b[38;5;129;01min\u001b[39;00m lines]\n",
      "File \u001b[1;32md:\\Pdir\\MMFair\\.venv\\lib\\site-packages\\pandas\\io\\formats\\html.py:644\u001b[0m, in \u001b[0;36mNotebookFormatter.render\u001b[1;34m(self)\u001b[0m\n\u001b[0;32m    642\u001b[0m \u001b[38;5;28mself\u001b[39m\u001b[38;5;241m.\u001b[39mwrite(\u001b[38;5;124m\"\u001b[39m\u001b[38;5;124m<div>\u001b[39m\u001b[38;5;124m\"\u001b[39m)\n\u001b[0;32m    643\u001b[0m \u001b[38;5;28mself\u001b[39m\u001b[38;5;241m.\u001b[39mwrite_style()\n\u001b[1;32m--> 644\u001b[0m \u001b[38;5;28;43msuper\u001b[39;49m\u001b[43m(\u001b[49m\u001b[43m)\u001b[49m\u001b[38;5;241;43m.\u001b[39;49m\u001b[43mrender\u001b[49m\u001b[43m(\u001b[49m\u001b[43m)\u001b[49m\n\u001b[0;32m    645\u001b[0m \u001b[38;5;28mself\u001b[39m\u001b[38;5;241m.\u001b[39mwrite(\u001b[38;5;124m\"\u001b[39m\u001b[38;5;124m</div>\u001b[39m\u001b[38;5;124m\"\u001b[39m)\n\u001b[0;32m    646\u001b[0m \u001b[38;5;28;01mreturn\u001b[39;00m \u001b[38;5;28mself\u001b[39m\u001b[38;5;241m.\u001b[39melements\n",
      "File \u001b[1;32md:\\Pdir\\MMFair\\.venv\\lib\\site-packages\\pandas\\io\\formats\\html.py:94\u001b[0m, in \u001b[0;36mHTMLFormatter.render\u001b[1;34m(self)\u001b[0m\n\u001b[0;32m     93\u001b[0m \u001b[38;5;28;01mdef\u001b[39;00m\u001b[38;5;250m \u001b[39m\u001b[38;5;21mrender\u001b[39m(\u001b[38;5;28mself\u001b[39m) \u001b[38;5;241m-\u001b[39m\u001b[38;5;241m>\u001b[39m \u001b[38;5;28mlist\u001b[39m[\u001b[38;5;28mstr\u001b[39m]:\n\u001b[1;32m---> 94\u001b[0m     \u001b[38;5;28;43mself\u001b[39;49m\u001b[38;5;241;43m.\u001b[39;49m\u001b[43m_write_table\u001b[49m\u001b[43m(\u001b[49m\u001b[43m)\u001b[49m\n\u001b[0;32m     96\u001b[0m     \u001b[38;5;28;01mif\u001b[39;00m \u001b[38;5;28mself\u001b[39m\u001b[38;5;241m.\u001b[39mshould_show_dimensions:\n\u001b[0;32m     97\u001b[0m         by \u001b[38;5;241m=\u001b[39m \u001b[38;5;28mchr\u001b[39m(\u001b[38;5;241m215\u001b[39m)  \u001b[38;5;66;03m# ×  # noqa: RUF003\u001b[39;00m\n",
      "File \u001b[1;32md:\\Pdir\\MMFair\\.venv\\lib\\site-packages\\pandas\\io\\formats\\html.py:269\u001b[0m, in \u001b[0;36mHTMLFormatter._write_table\u001b[1;34m(self, indent)\u001b[0m\n\u001b[0;32m    266\u001b[0m \u001b[38;5;28;01mif\u001b[39;00m \u001b[38;5;28mself\u001b[39m\u001b[38;5;241m.\u001b[39mfmt\u001b[38;5;241m.\u001b[39mheader \u001b[38;5;129;01mor\u001b[39;00m \u001b[38;5;28mself\u001b[39m\u001b[38;5;241m.\u001b[39mshow_row_idx_names:\n\u001b[0;32m    267\u001b[0m     \u001b[38;5;28mself\u001b[39m\u001b[38;5;241m.\u001b[39m_write_header(indent \u001b[38;5;241m+\u001b[39m \u001b[38;5;28mself\u001b[39m\u001b[38;5;241m.\u001b[39mindent_delta)\n\u001b[1;32m--> 269\u001b[0m \u001b[38;5;28;43mself\u001b[39;49m\u001b[38;5;241;43m.\u001b[39;49m\u001b[43m_write_body\u001b[49m\u001b[43m(\u001b[49m\u001b[43mindent\u001b[49m\u001b[43m \u001b[49m\u001b[38;5;241;43m+\u001b[39;49m\u001b[43m \u001b[49m\u001b[38;5;28;43mself\u001b[39;49m\u001b[38;5;241;43m.\u001b[39;49m\u001b[43mindent_delta\u001b[49m\u001b[43m)\u001b[49m\n\u001b[0;32m    271\u001b[0m \u001b[38;5;28mself\u001b[39m\u001b[38;5;241m.\u001b[39mwrite(\u001b[38;5;124m\"\u001b[39m\u001b[38;5;124m</table>\u001b[39m\u001b[38;5;124m\"\u001b[39m, indent)\n",
      "File \u001b[1;32md:\\Pdir\\MMFair\\.venv\\lib\\site-packages\\pandas\\io\\formats\\html.py:423\u001b[0m, in \u001b[0;36mHTMLFormatter._write_body\u001b[1;34m(self, indent)\u001b[0m\n\u001b[0;32m    421\u001b[0m     \u001b[38;5;28mself\u001b[39m\u001b[38;5;241m.\u001b[39m_write_hierarchical_rows(fmt_values, indent \u001b[38;5;241m+\u001b[39m \u001b[38;5;28mself\u001b[39m\u001b[38;5;241m.\u001b[39mindent_delta)\n\u001b[0;32m    422\u001b[0m \u001b[38;5;28;01melse\u001b[39;00m:\n\u001b[1;32m--> 423\u001b[0m     \u001b[38;5;28;43mself\u001b[39;49m\u001b[38;5;241;43m.\u001b[39;49m\u001b[43m_write_regular_rows\u001b[49m\u001b[43m(\u001b[49m\u001b[43mfmt_values\u001b[49m\u001b[43m,\u001b[49m\u001b[43m \u001b[49m\u001b[43mindent\u001b[49m\u001b[43m \u001b[49m\u001b[38;5;241;43m+\u001b[39;49m\u001b[43m \u001b[49m\u001b[38;5;28;43mself\u001b[39;49m\u001b[38;5;241;43m.\u001b[39;49m\u001b[43mindent_delta\u001b[49m\u001b[43m)\u001b[49m\n\u001b[0;32m    425\u001b[0m \u001b[38;5;28mself\u001b[39m\u001b[38;5;241m.\u001b[39mwrite(\u001b[38;5;124m\"\u001b[39m\u001b[38;5;124m</tbody>\u001b[39m\u001b[38;5;124m\"\u001b[39m, indent)\n",
      "File \u001b[1;32md:\\Pdir\\MMFair\\.venv\\lib\\site-packages\\pandas\\io\\formats\\html.py:469\u001b[0m, in \u001b[0;36mHTMLFormatter._write_regular_rows\u001b[1;34m(self, fmt_values, indent)\u001b[0m\n\u001b[0;32m    467\u001b[0m     dot_col_ix \u001b[38;5;241m=\u001b[39m \u001b[38;5;28mself\u001b[39m\u001b[38;5;241m.\u001b[39mfmt\u001b[38;5;241m.\u001b[39mtr_col_num \u001b[38;5;241m+\u001b[39m \u001b[38;5;28mself\u001b[39m\u001b[38;5;241m.\u001b[39mrow_levels\n\u001b[0;32m    468\u001b[0m     row\u001b[38;5;241m.\u001b[39minsert(dot_col_ix, \u001b[38;5;124m\"\u001b[39m\u001b[38;5;124m...\u001b[39m\u001b[38;5;124m\"\u001b[39m)\n\u001b[1;32m--> 469\u001b[0m \u001b[38;5;28;43mself\u001b[39;49m\u001b[38;5;241;43m.\u001b[39;49m\u001b[43mwrite_tr\u001b[49m\u001b[43m(\u001b[49m\n\u001b[0;32m    470\u001b[0m \u001b[43m    \u001b[49m\u001b[43mrow\u001b[49m\u001b[43m,\u001b[49m\u001b[43m \u001b[49m\u001b[43mindent\u001b[49m\u001b[43m,\u001b[49m\u001b[43m \u001b[49m\u001b[38;5;28;43mself\u001b[39;49m\u001b[38;5;241;43m.\u001b[39;49m\u001b[43mindent_delta\u001b[49m\u001b[43m,\u001b[49m\u001b[43m \u001b[49m\u001b[43mtags\u001b[49m\u001b[38;5;241;43m=\u001b[39;49m\u001b[38;5;28;43;01mNone\u001b[39;49;00m\u001b[43m,\u001b[49m\u001b[43m \u001b[49m\u001b[43mnindex_levels\u001b[49m\u001b[38;5;241;43m=\u001b[39;49m\u001b[38;5;28;43mself\u001b[39;49m\u001b[38;5;241;43m.\u001b[39;49m\u001b[43mrow_levels\u001b[49m\n\u001b[0;32m    471\u001b[0m \u001b[43m\u001b[49m\u001b[43m)\u001b[49m\n",
      "File \u001b[1;32md:\\Pdir\\MMFair\\.venv\\lib\\site-packages\\pandas\\io\\formats\\html.py:231\u001b[0m, in \u001b[0;36mHTMLFormatter.write_tr\u001b[1;34m(self, line, indent, indent_delta, header, align, tags, nindex_levels)\u001b[0m\n\u001b[0;32m    229\u001b[0m         \u001b[38;5;28mself\u001b[39m\u001b[38;5;241m.\u001b[39mwrite_th(s, indent\u001b[38;5;241m=\u001b[39mindent, header\u001b[38;5;241m=\u001b[39mheader, tags\u001b[38;5;241m=\u001b[39mval_tag)\n\u001b[0;32m    230\u001b[0m     \u001b[38;5;28;01melse\u001b[39;00m:\n\u001b[1;32m--> 231\u001b[0m         \u001b[38;5;28;43mself\u001b[39;49m\u001b[38;5;241;43m.\u001b[39;49m\u001b[43mwrite_td\u001b[49m\u001b[43m(\u001b[49m\u001b[43ms\u001b[49m\u001b[43m,\u001b[49m\u001b[43m \u001b[49m\u001b[43mindent\u001b[49m\u001b[43m,\u001b[49m\u001b[43m \u001b[49m\u001b[43mtags\u001b[49m\u001b[38;5;241;43m=\u001b[39;49m\u001b[43mval_tag\u001b[49m\u001b[43m)\u001b[49m\n\u001b[0;32m    233\u001b[0m indent \u001b[38;5;241m-\u001b[39m\u001b[38;5;241m=\u001b[39m indent_delta\n\u001b[0;32m    234\u001b[0m \u001b[38;5;28mself\u001b[39m\u001b[38;5;241m.\u001b[39mwrite(\u001b[38;5;124m\"\u001b[39m\u001b[38;5;124m</tr>\u001b[39m\u001b[38;5;124m\"\u001b[39m, indent)\n",
      "File \u001b[1;32md:\\Pdir\\MMFair\\.venv\\lib\\site-packages\\pandas\\io\\formats\\html.py:180\u001b[0m, in \u001b[0;36mHTMLFormatter.write_td\u001b[1;34m(self, s, indent, tags)\u001b[0m\n\u001b[0;32m    179\u001b[0m \u001b[38;5;28;01mdef\u001b[39;00m\u001b[38;5;250m \u001b[39m\u001b[38;5;21mwrite_td\u001b[39m(\u001b[38;5;28mself\u001b[39m, s: Any, indent: \u001b[38;5;28mint\u001b[39m \u001b[38;5;241m=\u001b[39m \u001b[38;5;241m0\u001b[39m, tags: \u001b[38;5;28mstr\u001b[39m \u001b[38;5;241m|\u001b[39m \u001b[38;5;28;01mNone\u001b[39;00m \u001b[38;5;241m=\u001b[39m \u001b[38;5;28;01mNone\u001b[39;00m) \u001b[38;5;241m-\u001b[39m\u001b[38;5;241m>\u001b[39m \u001b[38;5;28;01mNone\u001b[39;00m:\n\u001b[1;32m--> 180\u001b[0m     \u001b[38;5;28;43mself\u001b[39;49m\u001b[38;5;241;43m.\u001b[39;49m\u001b[43m_write_cell\u001b[49m\u001b[43m(\u001b[49m\u001b[43ms\u001b[49m\u001b[43m,\u001b[49m\u001b[43m \u001b[49m\u001b[43mkind\u001b[49m\u001b[38;5;241;43m=\u001b[39;49m\u001b[38;5;124;43m\"\u001b[39;49m\u001b[38;5;124;43mtd\u001b[39;49m\u001b[38;5;124;43m\"\u001b[39;49m\u001b[43m,\u001b[49m\u001b[43m \u001b[49m\u001b[43mindent\u001b[49m\u001b[38;5;241;43m=\u001b[39;49m\u001b[43mindent\u001b[49m\u001b[43m,\u001b[49m\u001b[43m \u001b[49m\u001b[43mtags\u001b[49m\u001b[38;5;241;43m=\u001b[39;49m\u001b[43mtags\u001b[49m\u001b[43m)\u001b[49m\n",
      "File \u001b[1;32md:\\Pdir\\MMFair\\.venv\\lib\\site-packages\\pandas\\io\\formats\\html.py:205\u001b[0m, in \u001b[0;36mHTMLFormatter._write_cell\u001b[1;34m(self, s, kind, indent, tags)\u001b[0m\n\u001b[0;32m    202\u001b[0m \u001b[38;5;28;01melse\u001b[39;00m:\n\u001b[0;32m    203\u001b[0m     end_a \u001b[38;5;241m=\u001b[39m \u001b[38;5;124m\"\u001b[39m\u001b[38;5;124m\"\u001b[39m\n\u001b[1;32m--> 205\u001b[0m \u001b[38;5;28;43mself\u001b[39;49m\u001b[38;5;241;43m.\u001b[39;49m\u001b[43mwrite\u001b[49m\u001b[43m(\u001b[49m\u001b[38;5;124;43mf\u001b[39;49m\u001b[38;5;124;43m\"\u001b[39;49m\u001b[38;5;132;43;01m{\u001b[39;49;00m\u001b[43mstart_tag\u001b[49m\u001b[38;5;132;43;01m}\u001b[39;49;00m\u001b[38;5;132;43;01m{\u001b[39;49;00m\u001b[43mrs\u001b[49m\u001b[38;5;132;43;01m}\u001b[39;49;00m\u001b[38;5;132;43;01m{\u001b[39;49;00m\u001b[43mend_a\u001b[49m\u001b[38;5;132;43;01m}\u001b[39;49;00m\u001b[38;5;124;43m</\u001b[39;49m\u001b[38;5;132;43;01m{\u001b[39;49;00m\u001b[43mkind\u001b[49m\u001b[38;5;132;43;01m}\u001b[39;49;00m\u001b[38;5;124;43m>\u001b[39;49m\u001b[38;5;124;43m\"\u001b[39;49m\u001b[43m,\u001b[49m\u001b[43m \u001b[49m\u001b[43mindent\u001b[49m\u001b[43m)\u001b[49m\n",
      "File \u001b[1;32md:\\Pdir\\MMFair\\.venv\\lib\\site-packages\\pandas\\io\\formats\\html.py:143\u001b[0m, in \u001b[0;36mHTMLFormatter.write\u001b[1;34m(self, s, indent)\u001b[0m\n\u001b[0;32m    142\u001b[0m \u001b[38;5;28;01mdef\u001b[39;00m\u001b[38;5;250m \u001b[39m\u001b[38;5;21mwrite\u001b[39m(\u001b[38;5;28mself\u001b[39m, s: Any, indent: \u001b[38;5;28mint\u001b[39m \u001b[38;5;241m=\u001b[39m \u001b[38;5;241m0\u001b[39m) \u001b[38;5;241m-\u001b[39m\u001b[38;5;241m>\u001b[39m \u001b[38;5;28;01mNone\u001b[39;00m:\n\u001b[1;32m--> 143\u001b[0m     rs \u001b[38;5;241m=\u001b[39m \u001b[43mpprint_thing\u001b[49m\u001b[43m(\u001b[49m\u001b[43ms\u001b[49m\u001b[43m)\u001b[49m\n\u001b[0;32m    144\u001b[0m     \u001b[38;5;28mself\u001b[39m\u001b[38;5;241m.\u001b[39melements\u001b[38;5;241m.\u001b[39mappend(\u001b[38;5;124m\"\u001b[39m\u001b[38;5;124m \u001b[39m\u001b[38;5;124m\"\u001b[39m \u001b[38;5;241m*\u001b[39m indent \u001b[38;5;241m+\u001b[39m rs)\n",
      "File \u001b[1;32md:\\Pdir\\MMFair\\.venv\\lib\\site-packages\\pandas\\io\\formats\\printing.py:214\u001b[0m, in \u001b[0;36mpprint_thing\u001b[1;34m(thing, _nest_lvl, escape_chars, default_escapes, quote_strings, max_seq_items)\u001b[0m\n\u001b[0;32m    211\u001b[0m         result \u001b[38;5;241m=\u001b[39m result\u001b[38;5;241m.\u001b[39mreplace(c, translate[c])\n\u001b[0;32m    212\u001b[0m     \u001b[38;5;28;01mreturn\u001b[39;00m result\n\u001b[1;32m--> 214\u001b[0m \u001b[38;5;28;01mif\u001b[39;00m \u001b[38;5;28mhasattr\u001b[39m(thing, \u001b[38;5;124m\"\u001b[39m\u001b[38;5;124m__next__\u001b[39m\u001b[38;5;124m\"\u001b[39m):\n\u001b[0;32m    215\u001b[0m     \u001b[38;5;28;01mreturn\u001b[39;00m \u001b[38;5;28mstr\u001b[39m(thing)\n\u001b[0;32m    216\u001b[0m \u001b[38;5;28;01melif\u001b[39;00m \u001b[38;5;28misinstance\u001b[39m(thing, \u001b[38;5;28mdict\u001b[39m) \u001b[38;5;129;01mand\u001b[39;00m _nest_lvl \u001b[38;5;241m<\u001b[39m get_option(\n\u001b[0;32m    217\u001b[0m     \u001b[38;5;124m\"\u001b[39m\u001b[38;5;124mdisplay.pprint_nest_depth\u001b[39m\u001b[38;5;124m\"\u001b[39m\n\u001b[0;32m    218\u001b[0m ):\n",
      "\u001b[1;31mKeyboardInterrupt\u001b[0m: "
     ]
    }
   ],
   "source": [
    "presc_data[presc_data.medication.str.contains('aspirin', case=False, na=False)]"
   ]
  },
  {
   "cell_type": "code",
   "execution_count": 45,
   "id": "c6a11055",
   "metadata": {},
   "outputs": [
    {
     "data": {
      "text/plain": [
       "drug_type\n",
       "MAIN        16791812\n",
       "BASE         3471112\n",
       "ADDITIVE       29687\n",
       "Name: count, dtype: int64"
      ]
     },
     "execution_count": 45,
     "metadata": {},
     "output_type": "execute_result"
    }
   ],
   "source": [
    "presc_data.drug_type.value_counts()"
   ]
  },
  {
   "cell_type": "code",
   "execution_count": null,
   "id": "2b844564",
   "metadata": {},
   "outputs": [],
   "source": [
    "lab_ids = dataframe_from_csv(os.path.join(mimic_path, 'hosp/d_labitems.csv.gz'), compression=None, header=0, index_col=None)\n",
    "lab_ids.shape"
   ]
  },
  {
   "cell_type": "code",
   "execution_count": null,
   "id": "4094a303",
   "metadata": {},
   "outputs": [],
   "source": [
    "#### HS Troponin cleaning and extraction\n",
    "\n",
    "# Filter lab_ids for rows where the label contains 'troponin'\n",
    "troponin_ids = lab_ids[lab_ids['label'].str.contains('troponin', case=False, na=False)]\n",
    "\n",
    "# Extract the itemid values for these rows\n",
    "troponin_itemids = troponin_ids['itemid'].unique()\n",
    "\n",
    "# Filter the lab_ids DataFrame to keep only rows where itemid is 51003\n",
    "lab_troponin_t = labs[labs['itemid'] == 51003]\n",
    "print(lab_troponin_t.shape)\n",
    "\n",
    "# Fill NaN values in valuenum where comments start with '<' or 'LESS' with 0.01\n",
    "lab_troponin_t.loc[\n",
    "    lab_troponin_t['valuenum'].isna() & lab_troponin_t['comments'].str.startswith(('<', 'LESS')),\n",
    "    'valuenum'\n",
    "] = 0.01\n",
    "\n",
    "# Fill NaN values in valuenum where comments start with '>' or 'GREATER' with 25\n",
    "lab_troponin_t.loc[\n",
    "    lab_troponin_t['valuenum'].isna() & lab_troponin_t['comments'].str.startswith(('>', 'GREATER')),\n",
    "    'valuenum'\n",
    "] = 25\n",
    "\n",
    "# Display the updated DataFrame or the first few rows to confirm\n",
    "lab_troponin_t.shape\n",
    "\n",
    "# Check how many NaN values are left in valuenum\n",
    "nans_left = lab_troponin_t['valuenum'].isna().sum()\n",
    "print(f\"Number of NaN values left in valuenum: {nans_left}\")\n",
    "\n",
    "# Drop rows where valuenum is still NaN\n",
    "lab_troponin_t_cleaned = lab_troponin_t.dropna(subset=['valuenum'])\n",
    "\n",
    "# Check the shape of the cleaned DataFrame to confirm\n",
    "print(f\"Shape of DataFrame after dropping NaNs: {lab_troponin_t_cleaned.shape}\")"
   ]
  },
  {
   "cell_type": "code",
   "execution_count": null,
   "id": "9d83ce9e",
   "metadata": {},
   "outputs": [],
   "source": [
    "### Creatine Kinase\n",
    "\n",
    "# Filter lab_ids for rows where the label contains 'Creatine Kinase'\n",
    "ck_ids = lab_ids[lab_ids['label'].str.contains('Creatine Kinase', case=False, na=False)]\n",
    "\n",
    "# Extract the itemid values for these rows\n",
    "ck_itemids = ck_ids['itemid'].unique()\n",
    "\n",
    "# Filter the lab_ids DataFrame to keep only rows where itemid is 51002\n",
    "lab_ck = lab[lab['itemid'] == 50910]\n",
    "lab_ck.shape"
   ]
  },
  {
   "cell_type": "markdown",
   "id": "fa7abfe7",
   "metadata": {},
   "source": []
  }
 ],
 "metadata": {
  "kernelspec": {
   "display_name": ".venv (3.10.11)",
   "language": "python",
   "name": "python3"
  },
  "language_info": {
   "codemirror_mode": {
    "name": "ipython",
    "version": 3
   },
   "file_extension": ".py",
   "mimetype": "text/x-python",
   "name": "python",
   "nbconvert_exporter": "python",
   "pygments_lexer": "ipython3",
   "version": "3.10.11"
  }
 },
 "nbformat": 4,
 "nbformat_minor": 5
}
